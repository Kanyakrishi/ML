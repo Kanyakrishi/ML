{
  "nbformat": 4,
  "nbformat_minor": 0,
  "metadata": {
    "colab": {
      "name": "LSTM and activation fn.ipynb",
      "provenance": [],
      "authorship_tag": "ABX9TyMdFnQ1uHBeLzErKmGDruhp",
      "include_colab_link": true
    },
    "kernelspec": {
      "name": "python3",
      "display_name": "Python 3"
    },
    "language_info": {
      "name": "python"
    }
  },
  "cells": [
    {
      "cell_type": "markdown",
      "metadata": {
        "id": "view-in-github",
        "colab_type": "text"
      },
      "source": [
        "<a href=\"https://colab.research.google.com/github/Kanyakrishi/deep_learning/blob/main/LSTM_and_activation_fn.ipynb\" target=\"_parent\"><img src=\"https://colab.research.google.com/assets/colab-badge.svg\" alt=\"Open In Colab\"/></a>"
      ]
    },
    {
      "cell_type": "code",
      "metadata": {
        "id": "koADmudf5vXU"
      },
      "source": [
        "import numpy as np\n",
        "from keras.preprocessing.sequence import pad_sequences\n",
        "from keras.models import Sequential\n",
        "from keras.layers.core import Activation, Dense\n",
        "from tensorflow.keras.layers import LeakyReLU\n",
        "from keras.layers import Flatten, LSTM\n",
        "from keras.layers import GlobalMaxPooling1D\n",
        "from keras.models import Model\n",
        "from numpy import array"
      ],
      "execution_count": 33,
      "outputs": []
    },
    {
      "cell_type": "code",
      "metadata": {
        "colab": {
          "base_uri": "https://localhost:8080/",
          "height": 212
        },
        "id": "DX2mNoTq5k0u",
        "outputId": "0651de59-4ffe-4a82-e980-34df62457169"
      },
      "source": [
        "X1 = list()\n",
        "X2 = list()\n",
        "X = list()\n",
        "Y = list()\n",
        "\n",
        "X1 = [(x+1)*2 for x in range(25)]\n",
        "X2 = [(x+1)*3 for x in range(25)]\n",
        "Y = [x1*x2 for x1,x2 in zip(X1,X2)]\n",
        "\n",
        "print(Y)"
      ],
      "execution_count": 17,
      "outputs": [
        {
          "output_type": "error",
          "ename": "ValueError",
          "evalue": "ignored",
          "traceback": [
            "\u001b[0;31m---------------------------------------------------------------------------\u001b[0m",
            "\u001b[0;31mValueError\u001b[0m                                Traceback (most recent call last)",
            "\u001b[0;32m<ipython-input-17-f024d8ff56da>\u001b[0m in \u001b[0;36m<module>\u001b[0;34m()\u001b[0m\n\u001b[1;32m      7\u001b[0m \u001b[0mX2\u001b[0m \u001b[0;34m=\u001b[0m \u001b[0;34m[\u001b[0m\u001b[0;34m(\u001b[0m\u001b[0mx\u001b[0m\u001b[0;34m+\u001b[0m\u001b[0;36m1\u001b[0m\u001b[0;34m)\u001b[0m\u001b[0;34m*\u001b[0m\u001b[0;36m3\u001b[0m \u001b[0;32mfor\u001b[0m \u001b[0mx\u001b[0m \u001b[0;32min\u001b[0m \u001b[0mrange\u001b[0m\u001b[0;34m(\u001b[0m\u001b[0;36m25\u001b[0m\u001b[0;34m)\u001b[0m\u001b[0;34m]\u001b[0m\u001b[0;34m\u001b[0m\u001b[0;34m\u001b[0m\u001b[0m\n\u001b[1;32m      8\u001b[0m \u001b[0mY\u001b[0m \u001b[0;34m=\u001b[0m \u001b[0;34m[\u001b[0m\u001b[0mx1\u001b[0m\u001b[0;34m*\u001b[0m\u001b[0mx2\u001b[0m \u001b[0;32mfor\u001b[0m \u001b[0mx1\u001b[0m\u001b[0;34m,\u001b[0m\u001b[0mx2\u001b[0m \u001b[0;32min\u001b[0m \u001b[0mzip\u001b[0m\u001b[0;34m(\u001b[0m\u001b[0mX1\u001b[0m\u001b[0;34m,\u001b[0m\u001b[0mX2\u001b[0m\u001b[0;34m)\u001b[0m\u001b[0;34m]\u001b[0m\u001b[0;34m\u001b[0m\u001b[0;34m\u001b[0m\u001b[0m\n\u001b[0;32m----> 9\u001b[0;31m \u001b[0mX\u001b[0m \u001b[0;34m=\u001b[0m \u001b[0marray\u001b[0m\u001b[0;34m(\u001b[0m\u001b[0mX\u001b[0m\u001b[0;34m)\u001b[0m\u001b[0;34m.\u001b[0m\u001b[0mreshape\u001b[0m\u001b[0;34m(\u001b[0m\u001b[0;36m25\u001b[0m\u001b[0;34m,\u001b[0m \u001b[0;36m1\u001b[0m\u001b[0;34m,\u001b[0m \u001b[0;36m2\u001b[0m\u001b[0;34m)\u001b[0m\u001b[0;34m\u001b[0m\u001b[0;34m\u001b[0m\u001b[0m\n\u001b[0m\u001b[1;32m     10\u001b[0m \u001b[0mprint\u001b[0m\u001b[0;34m(\u001b[0m\u001b[0mY\u001b[0m\u001b[0;34m)\u001b[0m\u001b[0;34m\u001b[0m\u001b[0;34m\u001b[0m\u001b[0m\n",
            "\u001b[0;31mValueError\u001b[0m: cannot reshape array of size 0 into shape (25,1,2)"
          ]
        }
      ]
    },
    {
      "cell_type": "code",
      "metadata": {
        "colab": {
          "base_uri": "https://localhost:8080/"
        },
        "id": "xoZPyyym5sBH",
        "outputId": "f4ab1f9d-b485-475e-a57c-135ea622ab26"
      },
      "source": [
        "X = np.column_stack((X1, X2))\n",
        "print(X)\n",
        "X = array(X).reshape(25, 1, 2)\n",
        "print(X)\n",
        "model = Sequential()\n",
        "model.add(LSTM(80, activation='relu', input_shape=(1, 2)))\n",
        "model.add(Dense(10, activation='relu'))\n",
        "model.add(Dense(1))\n",
        "\n",
        "model.compile(optimizer='adam', loss='mse')\n",
        "\n"
      ],
      "execution_count": 21,
      "outputs": [
        {
          "output_type": "stream",
          "name": "stdout",
          "text": [
            "[[ 2  3]\n",
            " [ 4  6]\n",
            " [ 6  9]\n",
            " [ 8 12]\n",
            " [10 15]\n",
            " [12 18]\n",
            " [14 21]\n",
            " [16 24]\n",
            " [18 27]\n",
            " [20 30]\n",
            " [22 33]\n",
            " [24 36]\n",
            " [26 39]\n",
            " [28 42]\n",
            " [30 45]\n",
            " [32 48]\n",
            " [34 51]\n",
            " [36 54]\n",
            " [38 57]\n",
            " [40 60]\n",
            " [42 63]\n",
            " [44 66]\n",
            " [46 69]\n",
            " [48 72]\n",
            " [50 75]]\n",
            "[[[ 2  3]]\n",
            "\n",
            " [[ 4  6]]\n",
            "\n",
            " [[ 6  9]]\n",
            "\n",
            " [[ 8 12]]\n",
            "\n",
            " [[10 15]]\n",
            "\n",
            " [[12 18]]\n",
            "\n",
            " [[14 21]]\n",
            "\n",
            " [[16 24]]\n",
            "\n",
            " [[18 27]]\n",
            "\n",
            " [[20 30]]\n",
            "\n",
            " [[22 33]]\n",
            "\n",
            " [[24 36]]\n",
            "\n",
            " [[26 39]]\n",
            "\n",
            " [[28 42]]\n",
            "\n",
            " [[30 45]]\n",
            "\n",
            " [[32 48]]\n",
            "\n",
            " [[34 51]]\n",
            "\n",
            " [[36 54]]\n",
            "\n",
            " [[38 57]]\n",
            "\n",
            " [[40 60]]\n",
            "\n",
            " [[42 63]]\n",
            "\n",
            " [[44 66]]\n",
            "\n",
            " [[46 69]]\n",
            "\n",
            " [[48 72]]\n",
            "\n",
            " [[50 75]]]\n"
          ]
        }
      ]
    },
    {
      "cell_type": "code",
      "metadata": {
        "id": "nu8DHabQ8GIr"
      },
      "source": [
        "model.fit(X, np.array(Y), epochs=1000, validation_split=0.2, batch_size=1)"
      ],
      "execution_count": null,
      "outputs": []
    },
    {
      "cell_type": "code",
      "metadata": {
        "id": "UIcJACOZ8NaC"
      },
      "source": [
        "model2 = Sequential()\n",
        "model2.add(LSTM(80, activation='tanh', input_shape=(1, 2)))\n",
        "model2.add(Dense(10, activation='tanh'))\n",
        "model2.add(Dense(1))\n",
        "model2.compile(optimizer='adam', loss='mse')"
      ],
      "execution_count": 24,
      "outputs": []
    },
    {
      "cell_type": "code",
      "metadata": {
        "colab": {
          "base_uri": "https://localhost:8080/"
        },
        "id": "5n8C2Ib59Z0K",
        "outputId": "9d90a4e9-be91-4b93-bea5-523026d1c458"
      },
      "source": [
        "test_input = array([55,80])\n",
        "test_input = test_input.reshape((1, 1, 2))\n",
        "test_output = model.predict(test_input, verbose=0)\n",
        "print(test_output)"
      ],
      "execution_count": 25,
      "outputs": [
        {
          "output_type": "stream",
          "name": "stdout",
          "text": [
            "[[3804.0615]]\n"
          ]
        }
      ]
    },
    {
      "cell_type": "code",
      "metadata": {
        "id": "mEyR1bAb9ewh"
      },
      "source": [
        "model2.fit(X, np.array(Y), epochs=1000, validation_split=0.2, batch_size=1)"
      ],
      "execution_count": null,
      "outputs": []
    },
    {
      "cell_type": "code",
      "metadata": {
        "colab": {
          "base_uri": "https://localhost:8080/"
        },
        "id": "ti-An94z9-Hs",
        "outputId": "afb00248-aa1b-4517-b8c3-a19034488419"
      },
      "source": [
        "test_input = array([55,80])\n",
        "test_input = test_input.reshape((1, 1, 2))\n",
        "test_output = model2.predict(test_input, verbose=0)\n",
        "print(test_output) # worst"
      ],
      "execution_count": 28,
      "outputs": [
        {
          "output_type": "stream",
          "name": "stdout",
          "text": [
            "[[162.70186]]\n"
          ]
        }
      ]
    },
    {
      "cell_type": "code",
      "metadata": {
        "id": "MdXUAdPt-F-q"
      },
      "source": [
        "leaky_relu = LeakyReLU(alpha=0.01)\n",
        "model3 = Sequential()\n",
        "model3.add(LSTM(80, activation=leaky_relu, input_shape=(1, 2)))\n",
        "model3.add(Dense(10, activation=leaky_relu))\n",
        "model3.add(Dense(1))\n",
        "model3.compile(optimizer='adam', loss='mse')\n",
        "model3.fit(X, np.array(Y), epochs=1000, validation_split=0.2, batch_size=1)"
      ],
      "execution_count": null,
      "outputs": []
    },
    {
      "cell_type": "code",
      "metadata": {
        "colab": {
          "base_uri": "https://localhost:8080/"
        },
        "id": "GCSg0m1S_t_z",
        "outputId": "5848a869-a1e7-49c5-eef2-9c1e5f5eef4e"
      },
      "source": [
        "test_input = array([55,80])\n",
        "test_input = test_input.reshape((1, 1, 2))\n",
        "test_output = model3.predict(test_input, verbose=0)\n",
        "print(test_output) # best without using dense layers "
      ],
      "execution_count": 36,
      "outputs": [
        {
          "output_type": "stream",
          "name": "stdout",
          "text": [
            "[[3743.45]]\n"
          ]
        }
      ]
    }
  ]
}