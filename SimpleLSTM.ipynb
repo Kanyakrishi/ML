from numpy import array
from keras.preprocessing.text import one_hot
from keras.preprocessing.sequence import pad_sequences
from keras.models import Sequential
from keras.layers.core import Activation, Dropout, Dense
from keras.layers import Flatten, LSTM
from keras.layers import GlobalMaxPooling1D
from keras.models import Model
from keras.layers.embeddings import Embedding
from sklearn.model_selection import train_test_split
from keras.preprocessing.text import Tokenizer
from keras.layers import Input
from keras.layers.merge import Concatenate
from keras.layers import Bidirectional

import pandas as pd
import numpy as np
import re

import matplotlib.pyplot as plt

X = [x+1 for x in range(20)]
Y = [y * 15 for y in X]

X = array(X).reshape(20, 1, 1)

model = Sequential()
model.add(LSTM(50, activation='relu', input_shape=(1, 1))) # return_sequence is not used
model.add(Dense(1))
model.compile(optimizer='adam', loss='mse')
#print(model.summary())

# train the data
model.fit(X, np.array(Y), epochs=2000, validation_split=0.2, batch_size=1)
# change number of epochs accrodingly

# i/p = 30 o/p = 450
test_input = array([30])
test_input = test_input.reshape((1, 1, 1))
test_output = model.predict(test_input, verbose=0)
print(test_output)
